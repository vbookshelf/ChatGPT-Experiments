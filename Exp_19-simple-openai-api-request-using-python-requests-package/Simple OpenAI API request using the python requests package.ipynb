{
 "cells": [
  {
   "cell_type": "code",
   "execution_count": 1,
   "metadata": {},
   "outputs": [],
   "source": [
    "import requests\n",
    "import json"
   ]
  },
  {
   "cell_type": "code",
   "execution_count": 2,
   "metadata": {},
   "outputs": [
    {
     "name": "stdout",
     "output_type": "stream",
     "text": [
      "Hello! How can I assist you today?\n"
     ]
    }
   ],
   "source": [
    "\n",
    "\n",
    "api_key = 'your-api-key'; \n",
    "\n",
    "model_type = \"gpt-3.5-turbo\" # 4096 tokens\n",
    "openai_url = 'https://api.openai.com/v1/chat/completions'\n",
    "\n",
    "\n",
    "def make_api_request(my_message):\n",
    "    \n",
    "    message_list = []\n",
    "\n",
    "    # Append to message_list.\n",
    "    message_list.append({\"role\": \"user\", \"content\": my_message})\n",
    "\n",
    "\n",
    "    headers = {\n",
    "                'Authorization': f'Bearer {api_key}',\n",
    "                'Content-Type': 'application/json'\n",
    "                }\n",
    "\n",
    "    body =  {\n",
    "        'model': model_type,\n",
    "        'messages': message_list,\n",
    "        #'max_tokens': max_tokens,\n",
    "        #'temperature': temperature,\n",
    "        #'presence_penalty': presence_penalty,\n",
    "        #'frequency_penalty': frequency_penalty\n",
    "      }\n",
    "\n",
    "\n",
    "    # Send the request to the API and parse the response\n",
    "    response = requests.post(openai_url, headers=headers, data=json.dumps(body))\n",
    "    data = json.loads(response.text)\n",
    "\n",
    "\n",
    "    # Get the response text\n",
    "    response_text = data['choices'][0]['message']['content']\n",
    "    \n",
    "    #print(data)\n",
    "\n",
    "    # Get the finish_reason\n",
    "    finish_reason = data['choices'][0]['finish_reason']\n",
    "    \n",
    "    return response_text\n",
    "\n",
    "\n",
    "prompt = 'hello'\n",
    "\n",
    "response_text = make_api_request(prompt)\n",
    "\n",
    "print(response_text)"
   ]
  },
  {
   "cell_type": "code",
   "execution_count": null,
   "metadata": {},
   "outputs": [],
   "source": []
  },
  {
   "cell_type": "markdown",
   "metadata": {},
   "source": [
    "## Example: Summarize text"
   ]
  },
  {
   "cell_type": "code",
   "execution_count": 3,
   "metadata": {},
   "outputs": [
    {
     "name": "stdout",
     "output_type": "stream",
     "text": [
      "To ensure a model generates desired outputs, clear and specific instructions should be given, which may require longer prompts for more context and clarity.\n"
     ]
    }
   ],
   "source": [
    "text = f\"\"\"\n",
    "You should express what you want a model to do by \\ \n",
    "providing instructions that are as clear and \\ \n",
    "specific as you can possibly make them. \\ \n",
    "This will guide the model towards the desired output, \\ \n",
    "and reduce the chances of receiving irrelevant \\ \n",
    "or incorrect responses. Don't confuse writing a \\ \n",
    "clear prompt with writing a short prompt. \\ \n",
    "In many cases, longer prompts provide more clarity \\ \n",
    "and context for the model, which can lead to \\ \n",
    "more detailed and relevant outputs.\n",
    "\"\"\"\n",
    "\n",
    "\n",
    "prompt = f\"\"\"\n",
    "Summarize the text delimited by triple backticks \\ \n",
    "into a single sentence.\n",
    "```{text}```\n",
    "\"\"\"\n",
    "\n",
    "response = make_api_request(prompt)\n",
    "\n",
    "print(response)"
   ]
  },
  {
   "cell_type": "code",
   "execution_count": null,
   "metadata": {},
   "outputs": [],
   "source": []
  },
  {
   "cell_type": "code",
   "execution_count": null,
   "metadata": {},
   "outputs": [],
   "source": []
  },
  {
   "cell_type": "code",
   "execution_count": null,
   "metadata": {},
   "outputs": [],
   "source": []
  },
  {
   "cell_type": "code",
   "execution_count": null,
   "metadata": {},
   "outputs": [],
   "source": []
  }
 ],
 "metadata": {
  "kernelspec": {
   "display_name": "Python 3",
   "language": "python",
   "name": "python3"
  },
  "language_info": {
   "codemirror_mode": {
    "name": "ipython",
    "version": 3
   },
   "file_extension": ".py",
   "mimetype": "text/x-python",
   "name": "python",
   "nbconvert_exporter": "python",
   "pygments_lexer": "ipython3",
   "version": "3.6.8"
  }
 },
 "nbformat": 4,
 "nbformat_minor": 2
}
